{
 "cells": [
  {
   "cell_type": "code",
   "execution_count": 2,
   "id": "7c5c5744",
   "metadata": {},
   "outputs": [],
   "source": [
    "import pandas as pd\n",
    "import praw \n",
    "from praw.models import MoreComments\n",
    "from sklearn.model_selection import train_test_split"
   ]
  },
  {
   "cell_type": "code",
   "execution_count": 3,
   "id": "685c286b",
   "metadata": {},
   "outputs": [],
   "source": [
    "reddit = praw.Reddit(\n",
    "    client_id = \"huuaTkdCFRpGi7m6XEslnA\",\n",
    "    client_secret = \"gzYzY1oyX1rqfXTLACVgtSVuvz_33g\",\n",
    "    user_agent = \"vscodepython:oscar.sentiment:v1.0.0\"\n",
    ")"
   ]
  },
  {
   "cell_type": "code",
   "execution_count": 4,
   "id": "f63ea21f",
   "metadata": {},
   "outputs": [],
   "source": [
    "submissions = pd.read_csv(\"movie_submissions.csv\")\n",
    "comment_data = []\n",
    "\n",
    "for i in range(0, submissions.shape[0]):\n",
    "    submission = reddit.submission(submissions.loc[i][3])\n",
    "    all_comments = submission.comments.list()\n",
    "    commentstring = \"\"\n",
    "    for comment in all_comments:\n",
    "        if isinstance(comment, MoreComments):\n",
    "            continue\n",
    "        #commentstring = commentstring + comment.body + \" \"\n",
    "        comment_data.append((comment.body, submissions.loc[i][4]))\n",
    "    #comment_data.append((\"hi\", i))"
   ]
  },
  {
   "cell_type": "code",
   "execution_count": 8,
   "id": "ddcc5f0e",
   "metadata": {},
   "outputs": [
    {
     "name": "stdout",
     "output_type": "stream",
     "text": [
      "('The look Tobey gives Tom as he stops Tom from killing Goblin, hit me like a ton of bricks. It said so clearly, “I understand.”', 0)\n"
     ]
    }
   ],
   "source": [
    "print(comment_data[0])\n",
    "comment_sents = pd.DataFrame.from_records(comment_data, columns = [\"comments\", \"label\"])\n",
    "comment_sents.to_csv(\"doesthiswork.csv\")\n",
    "train, test = train_test_split(comment_sents, test_size=0.2)\n",
    "train.to_csv(\"reddit_train.csv\")\n",
    "test.to_csv(\"reddit_test.csv\")"
   ]
  }
 ],
 "metadata": {
  "kernelspec": {
   "display_name": "Python 3 (ipykernel)",
   "language": "python",
   "name": "python3"
  },
  "language_info": {
   "codemirror_mode": {
    "name": "ipython",
    "version": 3
   },
   "file_extension": ".py",
   "mimetype": "text/x-python",
   "name": "python",
   "nbconvert_exporter": "python",
   "pygments_lexer": "ipython3",
   "version": "3.9.12"
  }
 },
 "nbformat": 4,
 "nbformat_minor": 5
}
