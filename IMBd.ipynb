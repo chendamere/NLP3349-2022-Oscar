{
 "cells": [
  {
   "cell_type": "code",
   "execution_count": 93,
   "id": "1d564938-25df-4cc6-98de-86cebffe14b5",
   "metadata": {},
   "outputs": [
    {
     "name": "stdout",
     "output_type": "stream",
     "text": [
      "25\n"
     ]
    }
   ],
   "source": [
    "# pip install imdbpy \n",
    "\n",
    "# given an input of movies, get reviews for all of the movies\n",
    "# the target will be either 1, or 0, with 1 being a movie that was nominated and 0 being not\n",
    "# get an even amount of nominated and non nominated reviews\n",
    "\n",
    "\n",
    "from imdb import IMDb\n",
    "ia = IMDb()\n",
    "\n",
    "# funciton to get reviews corresponding to an ID\n",
    "def getReviews(ID):\n",
    "    movie = ia.get_movie(ID,['reviews'])\n",
    "    movie.current_info\n",
    "    #theMatrix['reviews']\n",
    "\n",
    "    tempList = []\n",
    "    for i in movie['reviews']:\n",
    "        tempList.append(i['content'])\n",
    "        \n",
    "    return tempList\n",
    "\n",
    "IDs = ['421051']\n",
    "\n",
    "finalList = []\n",
    "\n",
    "# gets a list of all the review from the given IDS\n",
    "for i in IDs:\n",
    "    final = getReviews(i)\n",
    "    for x in final:\n",
    "        finalList.append(final)\n",
    "    \n",
    "    \n",
    "print(len(finalList))\n",
    "    "
   ]
  },
  {
   "cell_type": "code",
   "execution_count": null,
   "id": "094ab016-5e27-4cae-8160-bfb8953e27c4",
   "metadata": {},
   "outputs": [],
   "source": [
    "# gets 25 reviews from the movie\n",
    "# have been 581 all time nominated\n",
    "# how do we pick the other movies from that year"
   ]
  },
  {
   "cell_type": "code",
   "execution_count": 72,
   "id": "6d8f5eb0-6359-468b-9c7e-f97cff357499",
   "metadata": {},
   "outputs": [
    {
     "name": "stdout",
     "output_type": "stream",
     "text": [
      "6266538\n"
     ]
    }
   ],
   "source": [
    "my_file = open(\"Final.csv\", \"r\")\n",
    "\n",
    "  \n",
    "# reading the file\n",
    "data = my_file.read()\n",
    "  \n",
    "# replacing end splitting the text \n",
    "# when newline ('\\n') is seen.\n",
    "data_into_list = data.split(\"\\n\")\n",
    "my_file.close()\n",
    "\n",
    "print(data_into_list[159])"
   ]
  },
  {
   "cell_type": "code",
   "execution_count": 73,
   "id": "aca1019a-a085-4cf0-9b9a-1dc7997fe8c4",
   "metadata": {},
   "outputs": [
    {
     "name": "stdout",
     "output_type": "stream",
     "text": [
      "1193138\n"
     ]
    }
   ],
   "source": [
    "my_file2 = open(\"otherMovies.csv\", \"r\")\n",
    "\n",
    "  \n",
    "# reading the file\n",
    "data2 = my_file2.read()\n",
    "  \n",
    "# replacing end splitting the text \n",
    "# when newline ('\\n') is seen.\n",
    "data_into_list2 = data2.split(\"\\n\")\n",
    "my_file2.close()\n",
    "\n",
    "print(data_into_list2[160])"
   ]
  },
  {
   "cell_type": "code",
   "execution_count": 126,
   "id": "16fe189e-05f4-4374-9949-4a58331ef420",
   "metadata": {},
   "outputs": [],
   "source": [
    "# getting all of the normal reviews\n",
    "finalListNormalReviews = []\n",
    "for i in data_into_list[1:81]:\n",
    "    finalListNormalReviews.append(getReviews(i))\n",
    "    \n",
    "    "
   ]
  },
  {
   "cell_type": "code",
   "execution_count": 128,
   "id": "b7b9efc4-59cc-4416-99c9-1e6380b1e8bb",
   "metadata": {},
   "outputs": [],
   "source": [
    "# for some reason only the 82nd movie did not have a 'reviews' key\n",
    "for i in data_into_list[83:159]:\n",
    "    finalListNormalReviews.append(getReviews(i))"
   ]
  },
  {
   "cell_type": "code",
   "execution_count": 129,
   "id": "49ea9b33-0357-4c94-a1a4-62de6ca77864",
   "metadata": {},
   "outputs": [
    {
     "name": "stdout",
     "output_type": "stream",
     "text": [
      "156\n"
     ]
    }
   ],
   "source": [
    "print(len(finalListNormalReviews))"
   ]
  },
  {
   "cell_type": "code",
   "execution_count": 130,
   "id": "4e4d8504-f31e-4b9b-b362-6fb38faccfdb",
   "metadata": {},
   "outputs": [],
   "source": [
    "# getting all of the nominated reviews\n",
    "finalListNominatedReviews = []\n",
    "for i in data_into_list2[1:158]:\n",
    "    finalListNominatedReviews.append(getReviews(i))\n",
    "    \n",
    "# need integers, and for it to not drop the 0 smh\n"
   ]
  },
  {
   "cell_type": "code",
   "execution_count": 131,
   "id": "aff269dd-b77d-4e08-82bd-d3e2b8d073f9",
   "metadata": {},
   "outputs": [
    {
     "name": "stdout",
     "output_type": "stream",
     "text": [
      "157\n"
     ]
    }
   ],
   "source": [
    "print(len(finalListNominatedReviews))"
   ]
  },
  {
   "cell_type": "code",
   "execution_count": 134,
   "id": "8dbd6f84-e282-476f-b1f4-44542213c74e",
   "metadata": {},
   "outputs": [
    {
     "name": "stdout",
     "output_type": "stream",
     "text": [
      "3840\n"
     ]
    }
   ],
   "source": [
    "\n",
    "normalReviews = []\n",
    "for i in finalListNormalReviews:\n",
    "    for x in i:\n",
    "        normalReviews.append(x)\n",
    "        \n",
    "print(len(normalReviews))"
   ]
  },
  {
   "cell_type": "code",
   "execution_count": 140,
   "id": "c430cbdd-9d50-4825-bd4b-42d6450a6c7c",
   "metadata": {},
   "outputs": [
    {
     "name": "stdout",
     "output_type": "stream",
     "text": [
      "3924\n"
     ]
    }
   ],
   "source": [
    "nominatedReviews = []\n",
    "for i in finalListNominatedReviews:\n",
    "    for x in i:\n",
    "        nominatedReviews.append(x)\n",
    "        \n",
    "print(len(nominatedReviews))"
   ]
  },
  {
   "cell_type": "code",
   "execution_count": 153,
   "id": "d91f957d-ad69-4f29-b9ca-15a2ccadcebc",
   "metadata": {},
   "outputs": [],
   "source": [
    "\n",
    "import pandas as pd\n",
    "df = pd.DataFrame(normalReviews)\n",
    "df.to_csv('nonNominated.csv', index=False, header=False)"
   ]
  },
  {
   "cell_type": "code",
   "execution_count": null,
   "id": "a8bd9896-483d-4a7b-b7dd-c723c80f30fa",
   "metadata": {},
   "outputs": [],
   "source": []
  }
 ],
 "metadata": {
  "kernelspec": {
   "display_name": "Python 3 (ipykernel)",
   "language": "python",
   "name": "python3"
  },
  "language_info": {
   "codemirror_mode": {
    "name": "ipython",
    "version": 3
   },
   "file_extension": ".py",
   "mimetype": "text/x-python",
   "name": "python",
   "nbconvert_exporter": "python",
   "pygments_lexer": "ipython3",
   "version": "3.9.12"
  }
 },
 "nbformat": 4,
 "nbformat_minor": 5
}
