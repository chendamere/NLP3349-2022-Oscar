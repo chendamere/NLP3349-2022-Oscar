{
 "cells": [
  {
   "cell_type": "code",
   "execution_count": 1,
   "id": "400e3d42-4c73-4b0d-b445-b02a3e28de55",
   "metadata": {},
   "outputs": [],
   "source": [
    "                # this program takes the train and test data from their files and puts them in arrays\n",
    "# then for the train data, it creates word vectors stored in out.csv\n",
    "# takes long to run, as there are over 40000 features per row\n",
    "\n",
    "import csv\n",
    "from sklearn.feature_extraction.text import CountVectorizer\n",
    "allTrainData = []\n",
    "with open('TD.csv','rt')as f:\n",
    "  data = csv.reader(f)\n",
    "  for row in data:\n",
    "        allTrainData.append(row)\n",
    "        \n",
    "        \n",
    "# everything in 1 on, [1][0] = description. [1][1] = target\n",
    "\n",
    "#print(allData[1])\n",
    "#print(allData[3099])\n",
    "\n",
    "# do same for test data\n",
    "        \n",
    "# everything in 1 on, [1][0] = description. [1][1] = target\n",
    "\n",
    "#print(allTestData[1])\n",
    "#print(allTestData[680])\n",
    "\n",
    "# do same for test data"
   ]
  },
  {
   "cell_type": "code",
   "execution_count": 2,
   "id": "de32fa19-fe74-4093-9060-3d6497caf940",
   "metadata": {},
   "outputs": [],
   "source": [
    "import numpy as np, pandas as pd\n",
    "import seaborn as sns\n",
    "import matplotlib.pyplot as plt\n",
    "from sklearn.datasets import fetch_20newsgroups\n",
    "from sklearn.feature_extraction.text import TfidfVectorizer\n",
    "from sklearn.naive_bayes import GaussianNB\n",
    "from sklearn.pipeline import make_pipeline\n",
    "from sklearn.metrics import confusion_matrix, accuracy_score\n",
    "sns.set() # use seaborn plotting style\n",
    "import numpy as np\n",
    "from sklearn.naive_bayes import GaussianNB\n",
    "from sklearn import tree\n",
    "from sklearn.svm import LinearSVC\n",
    "from sklearn.neighbors import KNeighborsClassifier\n",
    "from sklearn.model_selection import cross_validate\n",
    "from sklearn.dummy import DummyClassifier\n",
    "from sklearn import metrics\n",
    "\n",
    "\n"
   ]
  },
  {
   "cell_type": "code",
   "execution_count": 3,
   "id": "9a5d315f-ae49-405c-9bde-eb049c0bd2d9",
   "metadata": {},
   "outputs": [
    {
     "name": "stdout",
     "output_type": "stream",
     "text": [
      "3443\n"
     ]
    }
   ],
   "source": [
    "print(len(allTrainData))"
   ]
  },
  {
   "cell_type": "code",
   "execution_count": 6,
   "id": "530a4bf9-59a4-4aaa-bf8d-3273b5f3f717",
   "metadata": {},
   "outputs": [],
   "source": [
    "# train and target to boe the same size\n",
    "# define the training set\n",
    "train_data = []\n",
    "train_target = []\n",
    "test_data = []\n",
    "test_target = []\n",
    "\n",
    "for i in allTrainData[1:]:\n",
    "    train_data.append(i[0])\n",
    "    train_target.append(i[1])\n",
    "\n",
    "    \n",
    "  "
   ]
  },
  {
   "cell_type": "code",
   "execution_count": 7,
   "id": "560ef8a1-4f41-4f29-9f0e-d72f36cbd536",
   "metadata": {},
   "outputs": [
    {
     "name": "stdout",
     "output_type": "stream",
     "text": [
      "[[0 0 0 ... 0 0 0]\n",
      " [0 0 0 ... 0 0 0]\n",
      " [0 0 0 ... 0 0 0]\n",
      " ...\n",
      " [0 0 0 ... 0 0 0]\n",
      " [0 0 0 ... 0 0 0]\n",
      " [0 0 0 ... 0 0 0]]\n"
     ]
    }
   ],
   "source": [
    "from sklearn.feature_extraction.text import CountVectorizer\n",
    "\n",
    "temp = train_data\n",
    "\n",
    "vectorizer = CountVectorizer()\n",
    "X = vectorizer.fit_transform(temp)\n",
    "final = X.toarray()\n",
    "print(final)\n"
   ]
  },
  {
   "cell_type": "code",
   "execution_count": 9,
   "id": "6b525bf6-d438-4e65-b017-1df1aa869ae6",
   "metadata": {},
   "outputs": [],
   "source": [
    "import csv\n",
    "\n",
    "# the first will be the title\n",
    "with open(\"out.csv\", \"w\", newline=\"\") as f:\n",
    "    writer = csv.writer(f)\n",
    "    writer.writerows(final)\n",
    "    "
   ]
  },
  {
   "cell_type": "code",
   "execution_count": 49,
   "id": "dd565e0b-01c0-426a-9269-4bd366e5062c",
   "metadata": {},
   "outputs": [],
   "source": [
    "# this reads the data from csv and adds to a list, only for analysis\n",
    "from csv import reader\n",
    "list1 = []\n",
    "with open('out.csv', 'r') as read_obj:\n",
    "    csv_reader = reader(read_obj)\n",
    "    for row in csv_reader:\n",
    "        list1.append(row)"
   ]
  },
  {
   "cell_type": "code",
   "execution_count": 10,
   "id": "dd387ac1-02f5-4e6a-96d9-2b8a00b3dc88",
   "metadata": {},
   "outputs": [
    {
     "name": "stdout",
     "output_type": "stream",
     "text": [
      "3442\n"
     ]
    }
   ],
   "source": [
    "print(len(train_data))"
   ]
  },
  {
   "cell_type": "code",
   "execution_count": null,
   "id": "8b1c7c78-05b8-4950-9658-f07acbface7c",
   "metadata": {},
   "outputs": [],
   "source": []
  },
  {
   "cell_type": "code",
   "execution_count": null,
   "id": "78ecdba6-8fec-4ba0-81e1-1010665fce6c",
   "metadata": {},
   "outputs": [],
   "source": []
  },
  {
   "cell_type": "code",
   "execution_count": null,
   "id": "587ff520-a430-4c3e-9a49-2d6b651999e7",
   "metadata": {},
   "outputs": [],
   "source": []
  },
  {
   "cell_type": "code",
   "execution_count": null,
   "id": "c305dd81-29fd-44ad-ba6b-3a77fd4fde4b",
   "metadata": {},
   "outputs": [],
   "source": []
  },
  {
   "cell_type": "code",
   "execution_count": null,
   "id": "fcd58bab-3813-4100-bfe3-f68e50124ca8",
   "metadata": {},
   "outputs": [],
   "source": []
  },
  {
   "cell_type": "code",
   "execution_count": null,
   "id": "9357b6f9-fcf8-461f-b797-fe9510b95ca5",
   "metadata": {},
   "outputs": [],
   "source": []
  },
  {
   "cell_type": "code",
   "execution_count": null,
   "id": "b5101774-1c5b-4094-b9ae-b727c2a81cec",
   "metadata": {},
   "outputs": [],
   "source": []
  }
 ],
 "metadata": {
  "kernelspec": {
   "display_name": "Python 3 (ipykernel)",
   "language": "python",
   "name": "python3"
  },
  "language_info": {
   "codemirror_mode": {
    "name": "ipython",
    "version": 3
   },
   "file_extension": ".py",
   "mimetype": "text/x-python",
   "name": "python",
   "nbconvert_exporter": "python",
   "pygments_lexer": "ipython3",
   "version": "3.9.12"
  }
 },
 "nbformat": 4,
 "nbformat_minor": 5
}
